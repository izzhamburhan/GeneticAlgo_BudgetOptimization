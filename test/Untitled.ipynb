{
 "cells": [
  {
   "cell_type": "code",
   "execution_count": 1,
   "id": "7bb874c2-a443-4433-912e-97bd6d3fc0c2",
   "metadata": {},
   "outputs": [],
   "source": [
    "import random"
   ]
  },
  {
   "cell_type": "code",
   "execution_count": 2,
   "id": "9463b983-589b-4efe-85a7-2308f8295db5",
   "metadata": {},
   "outputs": [],
   "source": [
    "# Define the genes\n",
    "genes = [\"Life&Entertainment\", \"Food&Drinks\", \"Shopping\", \"Transportation\", \"Housing\", \"Education\"]\n",
    "\n",
    "# Define the budget for each category\n",
    "budget = {\"Life&Entertainment\": 100, \"Food&Drinks\": 150, \"Shopping\": 200, \"Transportation\": 100, \"Housing\": 500, \"Education\": 300}"
   ]
  },
  {
   "cell_type": "code",
   "execution_count": 3,
   "id": "7b92bb44-ba37-4017-8b73-3098247119a0",
   "metadata": {},
   "outputs": [],
   "source": [
    "# Define the fitness function\n",
    "def fitness(individual):\n",
    "    total_cost = 0\n",
    "    for i in range(len(individual)):\n",
    "        total_cost += individual[i]*budget[genes[i]]\n",
    "    return total_cost"
   ]
  },
  {
   "cell_type": "code",
   "execution_count": 4,
   "id": "26d9ebd2-5a31-419a-b887-760fbda10281",
   "metadata": {},
   "outputs": [],
   "source": [
    "# Define the genetic algorithm\n",
    "def genetic_algorithm(population_size, fitness_func, genes, num_generations):\n",
    "    population = []\n",
    "    for i in range(population_size):\n",
    "        individual = [random.randint(0, 10) for _ in range(len(genes))] # Generate a random individual\n",
    "        population.append(individual)\n",
    "    for i in range(num_generations):\n",
    "        # Evaluate fitness for each individual\n",
    "        fitness_scores = [fitness_func(individual) for individual in population]\n",
    "        # Select the fittest individuals\n",
    "        selected = [population[i] for i in range(population_size) if fitness_scores[i] == min(fitness_scores)]\n",
    "        # Generate offspring by crossover and mutation\n",
    "        offspring = []\n",
    "        for i in range(population_size):\n",
    "            parent1 = random.choice(selected)\n",
    "            parent2 = random.choice(selected)\n",
    "            child = []\n",
    "            for j in range(len(genes)):\n",
    "                gene1 = parent1[j]\n",
    "                gene2 = parent2[j]\n",
    "                if random.random() < 0.5:\n",
    "                    child.append(gene1)\n",
    "                else:\n",
    "                    child.append(gene2)\n",
    "            # Apply mutation\n",
    "            for j in range(len(genes)):\n",
    "                if random.random() < 0.1:\n",
    "                    child[j] = random.randint(0, 10)\n",
    "            offspring.append(child)\n",
    "        # Replace the old population with the new one\n",
    "        population = offspring\n",
    "    # Select the fittest individual as the solution\n",
    "    fitness_scores = [fitness_func(individual) for individual in population]\n",
    "    solution = population[fitness_scores.index(min(fitness_scores))]\n",
    "    return solution"
   ]
  },
  {
   "cell_type": "code",
   "execution_count": 5,
   "id": "b3d7fefb-ce8e-4068-8bd2-db8074265a18",
   "metadata": {},
   "outputs": [],
   "source": [
    "# Solve the optimization problem\n",
    "population_size = 100\n",
    "num_generations = 100\n",
    "solution = genetic_algorithm(population_size, fitness, genes, num_generations)"
   ]
  },
  {
   "cell_type": "code",
   "execution_count": 6,
   "id": "f8159732-d7e7-485d-ae07-62a4c261561c",
   "metadata": {},
   "outputs": [
    {
     "name": "stdout",
     "output_type": "stream",
     "text": [
      "Life&Entertainment: 0 (Budget: 100)\n",
      "Food&Drinks: 0 (Budget: 150)\n",
      "Shopping: 0 (Budget: 200)\n",
      "Transportation: 0 (Budget: 100)\n",
      "Housing: 0 (Budget: 500)\n",
      "Education: 0 (Budget: 300)\n",
      "Total Cost: 0\n"
     ]
    }
   ],
   "source": [
    "# Print the solution\n",
    "for i in range(len(genes)):\n",
    "    print(genes[i] + \": \" + str(solution[i]) + \" (Budget: \" + str(budget[genes[i]]) + \")\")\n",
    "print(\"Total Cost: \" + str(fitness(solution)))"
   ]
  },
  {
   "cell_type": "code",
   "execution_count": null,
   "id": "6de535de-73cc-4290-aa2a-7e42f29f365b",
   "metadata": {},
   "outputs": [],
   "source": []
  }
 ],
 "metadata": {
  "kernelspec": {
   "display_name": "Python 3 (ipykernel)",
   "language": "python",
   "name": "python3"
  },
  "language_info": {
   "codemirror_mode": {
    "name": "ipython",
    "version": 3
   },
   "file_extension": ".py",
   "mimetype": "text/x-python",
   "name": "python",
   "nbconvert_exporter": "python",
   "pygments_lexer": "ipython3",
   "version": "3.9.13"
  }
 },
 "nbformat": 4,
 "nbformat_minor": 5
}
