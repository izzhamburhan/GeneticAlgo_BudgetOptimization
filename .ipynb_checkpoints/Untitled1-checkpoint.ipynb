{
 "cells": [
  {
   "cell_type": "code",
   "execution_count": 1,
   "id": "2bddd501-9049-4211-b331-5d6197dc5a80",
   "metadata": {},
   "outputs": [],
   "source": [
    "import random"
   ]
  },
  {
   "cell_type": "code",
   "execution_count": 2,
   "id": "5d16e742-2f69-4126-a0f0-33a0a361896e",
   "metadata": {},
   "outputs": [],
   "source": [
    "# Fitness function - calculates the fitness of a given chromosome\n",
    "def fitness(chromosome, budget):\n",
    "    total_cost = sum(chromosome.values())\n",
    "    return (budget - total_cost) / budget"
   ]
  },
  {
   "cell_type": "code",
   "execution_count": 3,
   "id": "84610815-2915-4264-866c-b6c6929010ee",
   "metadata": {},
   "outputs": [],
   "source": [
    "# Selection function - selects two chromosomes from the population based on their fitness\n",
    "def selection(population, budget):\n",
    "    fitness_values = [fitness(chromosome, budget) for chromosome in population]\n",
    "    sum_fitness = sum(fitness_values)\n",
    "    selection_probabilities = [fitness_value/sum_fitness for fitness_value in fitness_values]\n",
    "    index1 = random.choices(range(len(population)), weights=selection_probabilities)[0]\n",
    "    index2 = random.choices(range(len(population)), weights=selection_probabilities)[0]\n",
    "    return population[index1], population[index2]"
   ]
  },
  {
   "cell_type": "code",
   "execution_count": 4,
   "id": "fb3242cf-67cc-443f-ae48-2dafa7aff58a",
   "metadata": {},
   "outputs": [],
   "source": [
    "# Crossover function - performs a single-point crossover on two chromosomes\n",
    "def crossover(chromosome1, chromosome2):\n",
    "    crossover_point = random.randint(0, len(chromosome1)-1)\n",
    "    new_chromosome1 = { key: (chromosome1[key] if index <= crossover_point else chromosome2[key]) for index, key in enumerate(chromosome1)}\n",
    "    new_chromosome2 = { key: (chromosome2[key] if index <= crossover_point else chromosome1[key]) for index, key in enumerate(chromosome2)}\n",
    "    return new_chromosome1, new_chromosome2"
   ]
  },
  {
   "cell_type": "code",
   "execution_count": 5,
   "id": "16f0ca88-a5a1-4b18-b232-e88c10e705bb",
   "metadata": {},
   "outputs": [],
   "source": [
    "# Mutation function - mutates a single gene in the chromosome\n",
    "def mutation(chromosome, mutation_rate):\n",
    "    for key in chromosome:\n",
    "        if random.random() < mutation_rate:\n",
    "            chromosome[key] += random.randint(-100, 100)\n",
    "    return chromosome"
   ]
  },
  {
   "cell_type": "code",
   "execution_count": 6,
   "id": "498aa553-edc3-40e7-ac55-685989549297",
   "metadata": {},
   "outputs": [],
   "source": [
    "# Main function - runs the genetic algorithm\n",
    "def genetic_algorithm(budget, population_size, generations, mutation_rate):\n",
    "    # Generate initial population\n",
    "    population = [{ 'housing': random.randint(0, budget), 'food & drinks': random.randint(0, budget), 'life & entertainment': random.randint(0, budget), 'education': random.randint(0, budget), 'vehicle': random.randint(0, budget)} for i in range(population_size)]\n",
    "    best_chromosome = None\n",
    "    for i in range(generations):\n",
    "        # Select two parents from the population\n",
    "        parent1, parent2 = selection(population, budget)\n",
    "        # Create two children from the parents\n",
    "        child1, child2 = crossover(parent1, parent2)\n",
    "        # Mutate the children\n",
    "        child1 = mutation(child1, mutation_rate)\n",
    "        child2 = mutation(child2, mutation_rate)\n",
    "        # Add the children to the population\n",
    "        population.extend([child1, child2])\n",
    "        # Keep only the best chromosomes in the population\n",
    "        population = sorted(population, key=lambda x: fitness(x, budget), reverse=True)[:population_size]\n",
    "        # Update the best chromosome if necessary\n",
    "        if best_chromosome is None or fitness(best_chromosome, budget) < fitness(population[0], budget):\n",
    "            best_chromosome = population[0]\n",
    "        # Print the best chromosome and its fitness\n",
    "        print(f\"Generation {i+1}: Best chromosome = {best_chromosome}, Fitness = {fitness(best_chromosome, budget)}\")\n",
    "    return best_chromosome"
   ]
  },
  {
   "cell_type": "code",
   "execution_count": 18,
   "id": "8281efbe-6506-4d90-b243-43fb985501ab",
   "metadata": {},
   "outputs": [],
   "source": [
    "# Example usage\n",
    "budget = 2000\n",
    "population_size = 100\n",
    "generations = 50\n",
    "mutation_rate = 0.1\n"
   ]
  },
  {
   "cell_type": "code",
   "execution_count": 22,
   "id": "42125ba4-4531-4601-826b-9b0ad08e2624",
   "metadata": {},
   "outputs": [
    {
     "name": "stdout",
     "output_type": "stream",
     "text": [
      "Generation 1: Best chromosome = {'housing': 536, 'food & drinks': 353, 'life & entertainment': 1068, 'education': 148, 'vehicle': 113}, Fitness = -0.109\n",
      "Generation 2: Best chromosome = {'housing': 536, 'food & drinks': 353, 'life & entertainment': 1068, 'education': 148, 'vehicle': 113}, Fitness = -0.109\n",
      "Generation 3: Best chromosome = {'housing': 536, 'food & drinks': 353, 'life & entertainment': 1068, 'education': 148, 'vehicle': 113}, Fitness = -0.109\n",
      "Generation 4: Best chromosome = {'housing': 536, 'food & drinks': 353, 'life & entertainment': 1068, 'education': 148, 'vehicle': 113}, Fitness = -0.109\n",
      "Generation 5: Best chromosome = {'housing': 536, 'food & drinks': 353, 'life & entertainment': 1068, 'education': 148, 'vehicle': 113}, Fitness = -0.109\n",
      "Generation 6: Best chromosome = {'housing': 536, 'food & drinks': 353, 'life & entertainment': 1068, 'education': 148, 'vehicle': 113}, Fitness = -0.109\n",
      "Generation 7: Best chromosome = {'housing': 536, 'food & drinks': 353, 'life & entertainment': 1068, 'education': 148, 'vehicle': 113}, Fitness = -0.109\n",
      "Generation 8: Best chromosome = {'housing': 536, 'food & drinks': 353, 'life & entertainment': 1068, 'education': 148, 'vehicle': 113}, Fitness = -0.109\n",
      "Generation 9: Best chromosome = {'housing': 536, 'food & drinks': 353, 'life & entertainment': 1068, 'education': 148, 'vehicle': 113}, Fitness = -0.109\n",
      "Generation 10: Best chromosome = {'housing': 536, 'food & drinks': 353, 'life & entertainment': 1068, 'education': 148, 'vehicle': 113}, Fitness = -0.109\n",
      "Generation 11: Best chromosome = {'housing': 536, 'food & drinks': 353, 'life & entertainment': 1068, 'education': 148, 'vehicle': 113}, Fitness = -0.109\n",
      "Generation 12: Best chromosome = {'housing': 536, 'food & drinks': 353, 'life & entertainment': 1068, 'education': 148, 'vehicle': 113}, Fitness = -0.109\n",
      "Generation 13: Best chromosome = {'housing': 536, 'food & drinks': 353, 'life & entertainment': 1068, 'education': 148, 'vehicle': 113}, Fitness = -0.109\n",
      "Generation 14: Best chromosome = {'housing': 536, 'food & drinks': 353, 'life & entertainment': 1068, 'education': 148, 'vehicle': 113}, Fitness = -0.109\n",
      "Generation 15: Best chromosome = {'housing': 536, 'food & drinks': 353, 'life & entertainment': 1068, 'education': 148, 'vehicle': 113}, Fitness = -0.109\n",
      "Generation 16: Best chromosome = {'housing': 536, 'food & drinks': 353, 'life & entertainment': 1068, 'education': 148, 'vehicle': 113}, Fitness = -0.109\n",
      "Generation 17: Best chromosome = {'housing': 536, 'food & drinks': 353, 'life & entertainment': 1068, 'education': 148, 'vehicle': 113}, Fitness = -0.109\n",
      "Generation 18: Best chromosome = {'housing': 536, 'food & drinks': 353, 'life & entertainment': 1068, 'education': 148, 'vehicle': 113}, Fitness = -0.109\n",
      "Generation 19: Best chromosome = {'housing': 536, 'food & drinks': 353, 'life & entertainment': 1068, 'education': 148, 'vehicle': 113}, Fitness = -0.109\n",
      "Generation 20: Best chromosome = {'housing': 536, 'food & drinks': 353, 'life & entertainment': 1068, 'education': 148, 'vehicle': 113}, Fitness = -0.109\n",
      "Generation 21: Best chromosome = {'housing': 536, 'food & drinks': 353, 'life & entertainment': 1068, 'education': 148, 'vehicle': 113}, Fitness = -0.109\n",
      "Generation 22: Best chromosome = {'housing': 536, 'food & drinks': 353, 'life & entertainment': 1068, 'education': 148, 'vehicle': 113}, Fitness = -0.109\n",
      "Generation 23: Best chromosome = {'housing': 536, 'food & drinks': 353, 'life & entertainment': 1068, 'education': 148, 'vehicle': 113}, Fitness = -0.109\n",
      "Generation 24: Best chromosome = {'housing': 536, 'food & drinks': 353, 'life & entertainment': 1068, 'education': 148, 'vehicle': 113}, Fitness = -0.109\n",
      "Generation 25: Best chromosome = {'housing': 536, 'food & drinks': 353, 'life & entertainment': 1068, 'education': 148, 'vehicle': 113}, Fitness = -0.109\n",
      "Generation 26: Best chromosome = {'housing': 536, 'food & drinks': 353, 'life & entertainment': 1068, 'education': 148, 'vehicle': 113}, Fitness = -0.109\n",
      "Generation 27: Best chromosome = {'housing': 536, 'food & drinks': 353, 'life & entertainment': 1068, 'education': 148, 'vehicle': 113}, Fitness = -0.109\n",
      "Generation 28: Best chromosome = {'housing': 536, 'food & drinks': 353, 'life & entertainment': 1068, 'education': 148, 'vehicle': 113}, Fitness = -0.109\n",
      "Generation 29: Best chromosome = {'housing': 536, 'food & drinks': 353, 'life & entertainment': 1068, 'education': 148, 'vehicle': 113}, Fitness = -0.109\n",
      "Generation 30: Best chromosome = {'housing': 536, 'food & drinks': 353, 'life & entertainment': 1068, 'education': 148, 'vehicle': 113}, Fitness = -0.109\n",
      "Generation 31: Best chromosome = {'housing': 536, 'food & drinks': 353, 'life & entertainment': 1068, 'education': 148, 'vehicle': 113}, Fitness = -0.109\n",
      "Generation 32: Best chromosome = {'housing': 536, 'food & drinks': 353, 'life & entertainment': 1068, 'education': 148, 'vehicle': 113}, Fitness = -0.109\n",
      "Generation 33: Best chromosome = {'housing': 536, 'food & drinks': 353, 'life & entertainment': 1068, 'education': 148, 'vehicle': 113}, Fitness = -0.109\n",
      "Generation 34: Best chromosome = {'housing': 536, 'food & drinks': 353, 'life & entertainment': 1068, 'education': 148, 'vehicle': 113}, Fitness = -0.109\n",
      "Generation 35: Best chromosome = {'housing': 536, 'food & drinks': 353, 'life & entertainment': 1068, 'education': 148, 'vehicle': 113}, Fitness = -0.109\n",
      "Generation 36: Best chromosome = {'housing': 536, 'food & drinks': 353, 'life & entertainment': 1068, 'education': 148, 'vehicle': 113}, Fitness = -0.109\n",
      "Generation 37: Best chromosome = {'housing': 536, 'food & drinks': 353, 'life & entertainment': 1068, 'education': 148, 'vehicle': 113}, Fitness = -0.109\n",
      "Generation 38: Best chromosome = {'housing': 536, 'food & drinks': 353, 'life & entertainment': 1068, 'education': 148, 'vehicle': 113}, Fitness = -0.109\n",
      "Generation 39: Best chromosome = {'housing': 536, 'food & drinks': 353, 'life & entertainment': 1068, 'education': 148, 'vehicle': 113}, Fitness = -0.109\n",
      "Generation 40: Best chromosome = {'housing': 536, 'food & drinks': 353, 'life & entertainment': 1068, 'education': 148, 'vehicle': 113}, Fitness = -0.109\n",
      "Generation 41: Best chromosome = {'housing': 523, 'food & drinks': 226, 'life & entertainment': 47, 'education': 776, 'vehicle': 1}, Fitness = 0.2135\n",
      "Generation 42: Best chromosome = {'housing': 523, 'food & drinks': 226, 'life & entertainment': 47, 'education': 776, 'vehicle': 1}, Fitness = 0.2135\n",
      "Generation 43: Best chromosome = {'housing': 523, 'food & drinks': 226, 'life & entertainment': 47, 'education': 776, 'vehicle': 1}, Fitness = 0.2135\n",
      "Generation 44: Best chromosome = {'housing': 523, 'food & drinks': 226, 'life & entertainment': 47, 'education': 776, 'vehicle': 1}, Fitness = 0.2135\n",
      "Generation 45: Best chromosome = {'housing': 523, 'food & drinks': 226, 'life & entertainment': 47, 'education': 776, 'vehicle': 1}, Fitness = 0.2135\n",
      "Generation 46: Best chromosome = {'housing': 523, 'food & drinks': 226, 'life & entertainment': 47, 'education': 776, 'vehicle': 1}, Fitness = 0.2135\n",
      "Generation 47: Best chromosome = {'housing': 523, 'food & drinks': 226, 'life & entertainment': 47, 'education': 776, 'vehicle': 1}, Fitness = 0.2135\n",
      "Generation 48: Best chromosome = {'housing': 523, 'food & drinks': 226, 'life & entertainment': 47, 'education': 776, 'vehicle': 1}, Fitness = 0.2135\n",
      "Generation 49: Best chromosome = {'housing': 523, 'food & drinks': 226, 'life & entertainment': 47, 'education': 776, 'vehicle': 1}, Fitness = 0.2135\n",
      "Generation 50: Best chromosome = {'housing': 523, 'food & drinks': 226, 'life & entertainment': 47, 'education': 776, 'vehicle': 1}, Fitness = 0.2135\n",
      "Best chromosome: {'housing': 523, 'food & drinks': 226, 'life & entertainment': 47, 'education': 776, 'vehicle': 1}, Fitness: 0.2135\n"
     ]
    }
   ],
   "source": [
    "best_chromosome = genetic_algorithm(budget, population_size, generations, mutation_rate)\n",
    "print(f\"Best chromosome: {best_chromosome}, Fitness: {fitness(best_chromosome, budget)}\")"
   ]
  },
  {
   "cell_type": "code",
   "execution_count": null,
   "id": "d2e71e79-6b3a-49b2-8e83-0995e2afbf91",
   "metadata": {},
   "outputs": [],
   "source": []
  },
  {
   "cell_type": "code",
   "execution_count": null,
   "id": "8f1e36f3-3e8a-4a20-8dd6-6caca5f1798a",
   "metadata": {},
   "outputs": [],
   "source": []
  }
 ],
 "metadata": {
  "kernelspec": {
   "display_name": "Python 3 (ipykernel)",
   "language": "python",
   "name": "python3"
  },
  "language_info": {
   "codemirror_mode": {
    "name": "ipython",
    "version": 3
   },
   "file_extension": ".py",
   "mimetype": "text/x-python",
   "name": "python",
   "nbconvert_exporter": "python",
   "pygments_lexer": "ipython3",
   "version": "3.9.13"
  }
 },
 "nbformat": 4,
 "nbformat_minor": 5
}
