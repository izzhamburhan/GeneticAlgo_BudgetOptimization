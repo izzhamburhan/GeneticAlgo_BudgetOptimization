{
 "cells": [
  {
   "cell_type": "code",
   "execution_count": 8,
   "id": "aa52487f-2737-4607-af6f-80f10bf4567b",
   "metadata": {},
   "outputs": [],
   "source": [
    "import random"
   ]
  },
  {
   "cell_type": "code",
   "execution_count": 9,
   "id": "59426687-e6af-48be-a89a-d88ad374269d",
   "metadata": {},
   "outputs": [],
   "source": [
    "# Define the objective function\n",
    "def objective_function(x):\n",
    "    return x**2\n",
    "\n",
    "# Define the size of the population\n",
    "population_size = 4\n",
    "\n",
    "# Define the length of the bit string used to represent each individual in the population\n",
    "bit_string_length = 5\n",
    "\n",
    "# Define the probability of crossover\n",
    "crossover_probability = 0.9\n",
    "\n",
    "# Define the probability of mutation\n",
    "mutation_probability = 0.05\n",
    "\n",
    "# Define the number of generations to run the algorithm\n",
    "num_generations = 100"
   ]
  },
  {
   "cell_type": "code",
   "execution_count": 10,
   "id": "86b7c4d4-5f9a-4479-aa19-4da5d2076e32",
   "metadata": {},
   "outputs": [],
   "source": [
    "# Initialize the population\n",
    "population = []\n",
    "for i in range(population_size):\n",
    "    individual = [random.randint(0, 1) for _ in range(bit_string_length)]\n",
    "    population.append(individual)"
   ]
  },
  {
   "cell_type": "code",
   "execution_count": 11,
   "id": "4f4e8f8e-7b02-4b63-9031-7c5371b00d94",
   "metadata": {},
   "outputs": [],
   "source": [
    "# Run the genetic algorithm\n",
    "for generation in range(num_generations):\n",
    "    # Evaluate the fitness of each individual in the population\n",
    "    fitness_values = []\n",
    "    for individual in population:\n",
    "        x = int(''.join(str(bit) for bit in individual), 2)\n",
    "        fitness_values.append(objective_function(x))\n",
    "\n",
    "    # Select the parents for the next generation using rank-based selection\n",
    "    sorted_indices = sorted(range(len(fitness_values)), key=lambda k: fitness_values[k], reverse=True)\n",
    "    selection_probabilities = [((2 * i) / (population_size * (population_size - 1))) for i in range(population_size)]\n",
    "    parent_indices = random.choices(sorted_indices, weights=selection_probabilities, k=2)\n",
    "\n",
    "    # Perform crossover with a certain probability\n",
    "    if random.random() < crossover_probability:\n",
    "        # Select a random crossover point\n",
    "        crossover_point = random.randint(1, bit_string_length - 1)\n",
    "        # Swap the bit strings of the two parents at the crossover point\n",
    "        parent1 = population[parent_indices[0]]\n",
    "        parent2 = population[parent_indices[1]]\n",
    "        child1 = parent1[:crossover_point] + parent2[crossover_point:]\n",
    "        child2 = parent2[:crossover_point] + parent1[crossover_point:]\n",
    "        # Replace the parents with the children\n",
    "        population[parent_indices[0]] = child1\n",
    "        population[parent_indices[1]] = child2\n",
    "\n",
    "    # Perform mutation with a certain probability\n",
    "    for i in range(population_size):\n",
    "        for j in range(bit_string_length):\n",
    "            if random.random() < mutation_probability:\n",
    "                population[i][j] = 1 - population[i][j]  # Flip the bit"
   ]
  },
  {
   "cell_type": "code",
   "execution_count": 12,
   "id": "c3edaf5d-cc3a-481d-be61-971ca5135ce9",
   "metadata": {},
   "outputs": [],
   "source": [
    "# Find the individual with the highest fitness in the final population\n",
    "best_individual = max(population, key=lambda individual: objective_function(int(''.join(str(bit) for bit in individual), 2)))\n",
    "best_x = int(''.join(str(bit) for bit in best_individual), 2)\n",
    "best_fitness = objective_function(best_x)"
   ]
  },
  {
   "cell_type": "code",
   "execution_count": 13,
   "id": "1f00e01b-6b74-4a8b-975e-9bf7b484f66a",
   "metadata": {},
   "outputs": [
    {
     "name": "stdout",
     "output_type": "stream",
     "text": [
      "The best individual is [1, 1, 1, 0, 0] with x = 28 and fitness = 784.\n"
     ]
    }
   ],
   "source": [
    "print(f\"The best individual is {best_individual} with x = {best_x} and fitness = {best_fitness}.\")"
   ]
  },
  {
   "cell_type": "code",
   "execution_count": null,
   "id": "d3ead7f3-c85c-4f81-a4de-caf4bf2127e8",
   "metadata": {},
   "outputs": [],
   "source": []
  }
 ],
 "metadata": {
  "kernelspec": {
   "display_name": "Python 3 (ipykernel)",
   "language": "python",
   "name": "python3"
  },
  "language_info": {
   "codemirror_mode": {
    "name": "ipython",
    "version": 3
   },
   "file_extension": ".py",
   "mimetype": "text/x-python",
   "name": "python",
   "nbconvert_exporter": "python",
   "pygments_lexer": "ipython3",
   "version": "3.9.13"
  }
 },
 "nbformat": 4,
 "nbformat_minor": 5
}
