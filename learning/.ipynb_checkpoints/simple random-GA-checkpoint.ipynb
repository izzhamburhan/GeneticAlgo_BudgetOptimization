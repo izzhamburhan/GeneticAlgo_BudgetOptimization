{
 "cells": [
  {
   "cell_type": "code",
   "execution_count": 1,
   "id": "79d2daff-e410-49d1-aadf-72845c853076",
   "metadata": {},
   "outputs": [],
   "source": [
    "import random\n",
    "# Population size\n",
    "pop_size = 4"
   ]
  },
  {
   "cell_type": "code",
   "execution_count": 2,
   "id": "39d4e8b8-b460-4a7b-b4c0-655dd5d60599",
   "metadata": {},
   "outputs": [],
   "source": [
    "# Binary encoding of x-values\n",
    "binary_strings = ['01100', '11001', '00101', '10011']"
   ]
  },
  {
   "cell_type": "code",
   "execution_count": 14,
   "id": "175be7ce-c389-4aff-ac30-465fccd2e72c",
   "metadata": {
    "tags": []
   },
   "outputs": [],
   "source": [
    "# Decode binary strings to obtain x-values\n",
    "decoded_x_values = []\n",
    "for binary_string in binary_strings:\n",
    "    decoded_x = int(binary_string, 2)\n",
    "    decoded_x_values.append(decoded_x)"
   ]
  },
  {
   "cell_type": "code",
   "execution_count": 15,
   "id": "fdef0411-3e3c-4781-a5ba-70e27e93c532",
   "metadata": {},
   "outputs": [
    {
     "data": {
      "text/plain": [
       "[12, 25, 5, 19]"
      ]
     },
     "execution_count": 15,
     "metadata": {},
     "output_type": "execute_result"
    }
   ],
   "source": [
    "decoded_x_values"
   ]
  },
  {
   "cell_type": "code",
   "execution_count": 16,
   "id": "75505cb7-df20-4bbc-a1ba-b90adad4feef",
   "metadata": {},
   "outputs": [],
   "source": [
    "# Calculate fitness values for decoded x-values\n",
    "fitness_values = [x ** 2 for x in decoded_x_values]"
   ]
  },
  {
   "cell_type": "code",
   "execution_count": 17,
   "id": "fb82a532-1555-4e1b-8ae5-1c72a5762a9d",
   "metadata": {},
   "outputs": [
    {
     "data": {
      "text/plain": [
       "[144, 625, 25, 361]"
      ]
     },
     "execution_count": 17,
     "metadata": {},
     "output_type": "execute_result"
    }
   ],
   "source": [
    "fitness_values"
   ]
  },
  {
   "cell_type": "code",
   "execution_count": 19,
   "id": "9a4fd4d1-5bcd-4b9b-8231-e02843b0c44a",
   "metadata": {},
   "outputs": [],
   "source": [
    "# Rank-based selection to determine probabilities\n",
    "total_fitness = sum(fitness_values)\n",
    "probabilities = [fitness / total_fitness for fitness in fitness_values]"
   ]
  },
  {
   "cell_type": "code",
   "execution_count": 20,
   "id": "f9c44325-df6b-4cde-bc8b-7d967aa8e0f5",
   "metadata": {},
   "outputs": [],
   "source": [
    "# Expected count for each individual\n",
    "expected_counts = [prob * pop_size for prob in probabilities]"
   ]
  },
  {
   "cell_type": "code",
   "execution_count": 22,
   "id": "a6d984e7-9c3b-4893-ad8d-666def2b4182",
   "metadata": {},
   "outputs": [
    {
     "data": {
      "text/plain": [
       "[0.12467532467532468,\n",
       " 0.5411255411255411,\n",
       " 0.021645021645021644,\n",
       " 0.31255411255411253]"
      ]
     },
     "execution_count": 22,
     "metadata": {},
     "output_type": "execute_result"
    }
   ],
   "source": []
  },
  {
   "cell_type": "code",
   "execution_count": 7,
   "id": "09db0e7f-31f8-4232-9849-e302df23c4a8",
   "metadata": {},
   "outputs": [],
   "source": [
    "# Actual count for each individual\n",
    "actual_counts = [round(expected_count) for expected_count in expected_counts]"
   ]
  },
  {
   "cell_type": "code",
   "execution_count": 8,
   "id": "0a0179ea-2fe6-45e3-8142-b5866ad77f34",
   "metadata": {},
   "outputs": [
    {
     "name": "stdout",
     "output_type": "stream",
     "text": [
      "String\tInitial Population\tx-value\tFitness Value f(x)\tProbability\t(%) Probability\tExpected count\tActual count\n",
      "1\t01100\t12\t144\t0.1247\t12.47%\t0.4987\t0\n",
      "2\t11001\t25\t625\t0.5411\t54.11%\t2.1645\t2\n",
      "3\t00101\t5\t25\t0.0216\t2.16%\t0.0866\t0\n",
      "4\t10011\t19\t361\t0.3126\t31.26%\t1.2502\t1\n"
     ]
    }
   ],
   "source": [
    "# Display the results in a table\n",
    "print(\"String\\tInitial Population\\tx-value\\tFitness Value f(x)\\tProbability\\t(%) Probability\\tExpected count\\tActual count\")\n",
    "for i in range(pop_size):\n",
    "    print(f\"{i+1}\\t{binary_strings[i]}\\t{decoded_x_values[i]}\\t{fitness_values[i]}\\t{probabilities[i]:.4f}\\t{(probabilities[i] * 100):.2f}%\\t{expected_counts[i]:.4f}\\t{actual_counts[i]}\")"
   ]
  },
  {
   "cell_type": "code",
   "execution_count": 9,
   "id": "8d3f10ab-0139-4431-a66f-1c591cfb68b4",
   "metadata": {},
   "outputs": [
    {
     "name": "stdout",
     "output_type": "stream",
     "text": [
      "String\tInitial Population\tx-value\tFitness Value f(x)\tProbability\t(%) Probability\tExpected count\tActual count\n",
      "1\t01100\t12\t144\t0.1247\t12.47%\t0.4987\t0\n",
      "2\t11001\t25\t625\t0.5411\t54.11%\t2.1645\t1\n",
      "3\t00101\t5\t25\t0.0216\t2.16%\t0.0866\t0\n",
      "4\t10011\t19\t361\t0.3126\t31.26%\t1.2502\t3\n"
     ]
    }
   ],
   "source": [
    "# Step 6: Roulette wheel selection to obtain actual counts\n",
    "actual_counts = [0] * pop_size\n",
    "roulette_wheel = []\n",
    "cumulative_prob = 0\n",
    "for i, prob in enumerate(probabilities):\n",
    "    cumulative_prob += prob\n",
    "    roulette_wheel.append((cumulative_prob, i))\n",
    "\n",
    "for _ in range(pop_size):\n",
    "    r = random.uniform(0, 1)\n",
    "    for prob, i in roulette_wheel:\n",
    "        if r < prob:\n",
    "            actual_counts[i] += 1\n",
    "            break\n",
    "\n",
    "# Output the results in a table\n",
    "print(\"String\\tInitial Population\\tx-value\\tFitness Value f(x)\\tProbability\\t(%) Probability\\tExpected count\\tActual count\")\n",
    "for i in range(pop_size):\n",
    "    print(f\"{i+1}\\t{binary_strings[i]}\\t{decoded_x_values[i]}\\t{fitness_values[i]}\\t{probabilities[i]:.4f}\\t{(probabilities[i] * 100):.2f}%\\t{expected_counts[i]:.4f}\\t{actual_counts[i]}\")"
   ]
  },
  {
   "cell_type": "code",
   "execution_count": null,
   "id": "c5f3edb9-b2af-432b-8f38-8c35a94f6ef2",
   "metadata": {},
   "outputs": [],
   "source": []
  },
  {
   "cell_type": "code",
   "execution_count": 10,
   "id": "573395d6-08b0-451e-acdc-59fcd2afbc8f",
   "metadata": {},
   "outputs": [],
   "source": [
    "# # assuming the actual count for each string is stored in a list called \"actual_count\"\n",
    "# # and the population strings are stored in a list called \"population\"\n",
    "\n",
    "# mating_pool = []\n",
    "\n",
    "# for i, count in enumerate(actual_counts):\n",
    "#     # if count is zero, skip this string\n",
    "#     if count == 0:\n",
    "#         continue\n",
    "    \n",
    "#     # add the string to the mating pool count number of times\n",
    "#     for j in range(count):\n",
    "#         mating_pool.append(pop_size[i])\n",
    "        \n",
    "# # print the resulting mating pool\n",
    "# print(mating_pool)"
   ]
  },
  {
   "cell_type": "code",
   "execution_count": 11,
   "id": "46d65490-c892-43b8-b6bc-30092044ddd0",
   "metadata": {},
   "outputs": [
    {
     "name": "stdout",
     "output_type": "stream",
     "text": [
      "Offspring 1:  [0, 1, 1, 0, 1]\n",
      "Offspring 2:  [1, 1, 0, 0, 0]\n"
     ]
    }
   ],
   "source": [
    "\n",
    "\n",
    "# Define the crossover point\n",
    "crossover_point = 3\n",
    "\n",
    "# Define the parents\n",
    "parent1 = [0, 1, 1, 0, 0]\n",
    "parent2 = [1, 1, 0, 0, 1]\n",
    "\n",
    "# Perform single point crossover\n",
    "offspring1 = parent1[:crossover_point] + parent2[crossover_point:]\n",
    "offspring2 = parent2[:crossover_point] + parent1[crossover_point:]\n",
    "\n",
    "# Print the offspring\n",
    "print(\"Offspring 1: \", offspring1)\n",
    "print(\"Offspring 2: \", offspring2)"
   ]
  },
  {
   "cell_type": "code",
   "execution_count": 12,
   "id": "c4974c5c-6fee-4204-b612-0f9a043a99fc",
   "metadata": {},
   "outputs": [],
   "source": [
    "def single_point_crossover(parent1, parent2, crossover_point):\n",
    "    offspring1 = parent1[:crossover_point] + parent2[crossover_point:]\n",
    "    offspring2 = parent2[:crossover_point] + parent1[crossover_point:]\n",
    "    return offspring1, offspring2"
   ]
  },
  {
   "cell_type": "code",
   "execution_count": 13,
   "id": "21e9f0f9-c234-4649-9bea-d9684fda3c4e",
   "metadata": {},
   "outputs": [
    {
     "name": "stdout",
     "output_type": "stream",
     "text": [
      "Offspring 1:  [1, 0, 1, 0, 0, 1]\n",
      "Decoded x1:  41\n",
      "Fitness of offspring 1:  1681\n",
      "Offspring 2:  [1, 1, 1, 1, 0, 0]\n",
      "Decoded x2:  60\n",
      "Fitness of offspring 2:  3600\n"
     ]
    }
   ],
   "source": [
    "def decode_x(offspring):\n",
    "    x = 0\n",
    "    for bit in offspring:\n",
    "        x = (x << 1) | bit\n",
    "    return x\n",
    "\n",
    "def calculate_fitness(x):\n",
    "    return x**2\n",
    "\n",
    "\n",
    "parent1 = [1,0,1,1,0,0]\n",
    "parent2 = [1,1,1,0,0,1]\n",
    "crossover_point = 3\n",
    "\n",
    "# Example usage\n",
    "offspring1, offspring2 = single_point_crossover(parent1, parent2, crossover_point)\n",
    "\n",
    "x1 = decode_x(offspring1)\n",
    "x2 = decode_x(offspring2)\n",
    "\n",
    "fitness1 = calculate_fitness(x1)\n",
    "fitness2 = calculate_fitness(x2)\n",
    "\n",
    "print(\"Offspring 1: \", offspring1)\n",
    "print(\"Decoded x1: \", x1)\n",
    "print(\"Fitness of offspring 1: \", fitness1)\n",
    "\n",
    "print(\"Offspring 2: \", offspring2)\n",
    "print(\"Decoded x2: \", x2)\n",
    "print(\"Fitness of offspring 2: \", fitness2)"
   ]
  },
  {
   "cell_type": "code",
   "execution_count": 51,
   "id": "f3c5e477-e913-4a12-be47-4e9b7182d867",
   "metadata": {},
   "outputs": [
    {
     "ename": "TypeError",
     "evalue": "object of type 'int' has no len()",
     "output_type": "error",
     "traceback": [
      "\u001b[1;31m---------------------------------------------------------------------------\u001b[0m",
      "\u001b[1;31mTypeError\u001b[0m                                 Traceback (most recent call last)",
      "\u001b[1;32m~\\AppData\\Local\\Temp\\ipykernel_18124\\1235703125.py\u001b[0m in \u001b[0;36m<module>\u001b[1;34m\u001b[0m\n\u001b[0;32m     11\u001b[0m \u001b[1;33m\u001b[0m\u001b[0m\n\u001b[0;32m     12\u001b[0m \u001b[1;31m# perform mutation on the offspring obtained after crossover\u001b[0m\u001b[1;33m\u001b[0m\u001b[1;33m\u001b[0m\u001b[0m\n\u001b[1;32m---> 13\u001b[1;33m \u001b[0moffspring_after_mutation\u001b[0m \u001b[1;33m=\u001b[0m \u001b[0mmutation\u001b[0m\u001b[1;33m(\u001b[0m\u001b[0moffspring1\u001b[0m\u001b[1;33m,\u001b[0m \u001b[0mprobabilities\u001b[0m\u001b[1;33m)\u001b[0m\u001b[1;33m\u001b[0m\u001b[1;33m\u001b[0m\u001b[0m\n\u001b[0m",
      "\u001b[1;32m~\\AppData\\Local\\Temp\\ipykernel_18124\\1235703125.py\u001b[0m in \u001b[0;36mmutation\u001b[1;34m(offspring, mutation_probability)\u001b[0m\n\u001b[0;32m      3\u001b[0m     \u001b[0mmutated_offspring\u001b[0m \u001b[1;33m=\u001b[0m \u001b[1;33m[\u001b[0m\u001b[1;33m]\u001b[0m\u001b[1;33m\u001b[0m\u001b[1;33m\u001b[0m\u001b[0m\n\u001b[0;32m      4\u001b[0m     \u001b[1;32mfor\u001b[0m \u001b[0mchromosome\u001b[0m \u001b[1;32min\u001b[0m \u001b[0moffspring\u001b[0m\u001b[1;33m:\u001b[0m\u001b[1;33m\u001b[0m\u001b[1;33m\u001b[0m\u001b[0m\n\u001b[1;32m----> 5\u001b[1;33m         \u001b[1;32mfor\u001b[0m \u001b[0mi\u001b[0m \u001b[1;32min\u001b[0m \u001b[0mrange\u001b[0m\u001b[1;33m(\u001b[0m\u001b[0mlen\u001b[0m\u001b[1;33m(\u001b[0m\u001b[0mchromosome\u001b[0m\u001b[1;33m)\u001b[0m\u001b[1;33m)\u001b[0m\u001b[1;33m:\u001b[0m\u001b[1;33m\u001b[0m\u001b[1;33m\u001b[0m\u001b[0m\n\u001b[0m\u001b[0;32m      6\u001b[0m             \u001b[1;31m# flip the bit with probability mutation_probability\u001b[0m\u001b[1;33m\u001b[0m\u001b[1;33m\u001b[0m\u001b[0m\n\u001b[0;32m      7\u001b[0m             \u001b[1;32mif\u001b[0m \u001b[0mrandom\u001b[0m\u001b[1;33m.\u001b[0m\u001b[0mrandom\u001b[0m\u001b[1;33m(\u001b[0m\u001b[1;33m)\u001b[0m \u001b[1;33m<\u001b[0m \u001b[0mmutation_probability\u001b[0m\u001b[1;33m:\u001b[0m\u001b[1;33m\u001b[0m\u001b[1;33m\u001b[0m\u001b[0m\n",
      "\u001b[1;31mTypeError\u001b[0m: object of type 'int' has no len()"
     ]
    }
   ],
   "source": [
    "# define the mutation function\n",
    "def mutation(offspring, mutation_probability):\n",
    "    mutated_offspring = []\n",
    "    for chromosome in offspring:\n",
    "        for i in range(len(chromosome)):\n",
    "            # flip the bit with probability mutation_probability\n",
    "            if random.random() < mutation_probability:\n",
    "                chromosome[i] = 1 - chromosome[i]\n",
    "        mutated_offspring.append(chromosome)\n",
    "    return mutated_offspring\n",
    "\n",
    "# perform mutation on the offspring obtained after crossover\n",
    "offspring_after_mutation = mutation(offspring1, mutation_probability)"
   ]
  },
  {
   "cell_type": "code",
   "execution_count": null,
   "id": "65d6e17a-a85b-4a7b-a91b-a4e3f1265652",
   "metadata": {},
   "outputs": [],
   "source": [
    "# Mutation function - mutates a single gene in the chromosome\n",
    "def mutation(chromosome, mutation_rate):\n",
    "    for key in chromosome:\n",
    "        if random.random() < mutation_rate:\n",
    "            chromosome[key] += random.randint(-10, 10)\n",
    "    return chromosome"
   ]
  },
  {
   "cell_type": "code",
   "execution_count": 26,
   "id": "a7838d99-d9b2-4afc-b8d8-be8beec0b055",
   "metadata": {},
   "outputs": [
    {
     "ename": "SyntaxError",
     "evalue": "invalid non-printable character U+202F (2045172159.py, line 1)",
     "output_type": "error",
     "traceback": [
      "\u001b[1;36m  File \u001b[1;32m\"C:\\Users\\Izzham Burhan\\AppData\\Local\\Temp\\ipykernel_13728\\2045172159.py\"\u001b[1;36m, line \u001b[1;32m1\u001b[0m\n\u001b[1;33m    POP_SIZE = 4\u001b[0m\n\u001b[1;37m                ^\u001b[0m\n\u001b[1;31mSyntaxError\u001b[0m\u001b[1;31m:\u001b[0m invalid non-printable character U+202F\n"
     ]
    }
   ],
   "source": [
    "POP_SIZE = 4 \n",
    "GENE_LEN = 5 \n",
    "MAX_ITER = 100 \n",
    "MUT_RATE = 0.1 \n",
    "ELITE_SIZE = 1 \n",
    "FITNESS_EXP = 2 "
   ]
  },
  {
   "cell_type": "code",
   "execution_count": 28,
   "id": "0de2c9bd-a7f8-4e02-87e4-73a5c5b94acd",
   "metadata": {},
   "outputs": [],
   "source": [
    "POP_SIZE = 4\n",
    "GENE_LEN = 5\n",
    "MAX_ITER = 100\n",
    "MUT_RATE = 0.1\n",
    "ELITE_SIZE = 1\n",
    "FITNESS_EXP = 2"
   ]
  },
  {
   "cell_type": "code",
   "execution_count": 30,
   "id": "d4d80bff-c279-4d01-b6ae-47aa08d0d11e",
   "metadata": {},
   "outputs": [],
   "source": [
    "def fitness_func(x): \n",
    "    return x ** FITNESS_EXP "
   ]
  },
  {
   "cell_type": "code",
   "execution_count": 32,
   "id": "41130715-4438-43ba-8c19-03f2cfa34d66",
   "metadata": {},
   "outputs": [],
   "source": [
    "def encode(x): \n",
    "    return format(x, '0' + str(GENE_LEN) + 'b') \n",
    "\n",
    "def decode(gene): \n",
    "    return int(gene, 2) "
   ]
  },
  {
   "cell_type": "code",
   "execution_count": 33,
   "id": "bb540e30-abea-41e0-a1e7-216c5bd098d5",
   "metadata": {},
   "outputs": [],
   "source": [
    "population = [encode(random.randint(0, 31)) for i in range(POP_SIZE)] "
   ]
  },
  {
   "cell_type": "code",
   "execution_count": 34,
   "id": "a1ebe4eb-fe23-4a1f-a22b-100fc7d8dce0",
   "metadata": {},
   "outputs": [
    {
     "ename": "IndentationError",
     "evalue": "expected an indented block (1025366427.py, line 1)",
     "output_type": "error",
     "traceback": [
      "\u001b[1;36m  File \u001b[1;32m\"C:\\Users\\Izzham Burhan\\AppData\\Local\\Temp\\ipykernel_13728\\1025366427.py\"\u001b[1;36m, line \u001b[1;32m1\u001b[0m\n\u001b[1;33m    for iteration in range(MAX_ITER):\u001b[0m\n\u001b[1;37m                                      ^\u001b[0m\n\u001b[1;31mIndentationError\u001b[0m\u001b[1;31m:\u001b[0m expected an indented block\n"
     ]
    }
   ],
   "source": [
    "for iteration in range(MAX_ITER): \n",
    "    "
   ]
  },
  {
   "cell_type": "code",
   "execution_count": 35,
   "id": "79f9c850-74b1-42c8-9083-d2046bbeef37",
   "metadata": {},
   "outputs": [],
   "source": [
    "fitness_values = [fitness_func(decode(gene)) for gene in population] "
   ]
  },
  {
   "cell_type": "code",
   "execution_count": 36,
   "id": "0a8e921a-1b64-4559-b4e8-8dd00149af13",
   "metadata": {},
   "outputs": [],
   "source": [
    "elite_indices = sorted(range(len(fitness_values)), key=lambda i: fitness_values[i], reverse=True)[:ELITE_SIZE] \n",
    "\n",
    "elite_population = [population[i] for i in elite_indices]"
   ]
  },
  {
   "cell_type": "code",
   "execution_count": 39,
   "id": "25796e6a-2e8e-44a1-9b88-a13af0b951e9",
   "metadata": {},
   "outputs": [
    {
     "ename": "SyntaxError",
     "evalue": "invalid non-printable character U+202F (104706854.py, line 4)",
     "output_type": "error",
     "traceback": [
      "\u001b[1;36m  File \u001b[1;32m\"C:\\Users\\Izzham Burhan\\AppData\\Local\\Temp\\ipykernel_13728\\104706854.py\"\u001b[1;36m, line \u001b[1;32m4\u001b[0m\n\u001b[1;33m    parent1 = random.choices(population, weights=fitness_values)[0]\u001b[0m\n\u001b[1;37m    ^\u001b[0m\n\u001b[1;31mSyntaxError\u001b[0m\u001b[1;31m:\u001b[0m invalid non-printable character U+202F\n"
     ]
    }
   ],
   "source": [
    "new_population = [] \n",
    "\n",
    "for i in range(POP_SIZE - ELITE_SIZE): \n",
    "    \tparent1 = random.choices(population, weights=fitness_values)[0]\n",
    "         \n",
    "    \tparent2 = random.choices(population, weights=fitness_values)[0] \n",
    "\n",
    "    \tcrossover_point = random.randint(1, GENE_LEN - 1) \n",
    "\n",
    "    \tchild = parent1[:crossover_point] + parent2[crossover_point:] \n",
    "\n",
    "    \tnew_population.append(child)"
   ]
  },
  {
   "cell_type": "code",
   "execution_count": null,
   "id": "da022ec5-db75-489c-ae51-50bcad6638a8",
   "metadata": {},
   "outputs": [],
   "source": []
  }
 ],
 "metadata": {
  "kernelspec": {
   "display_name": "Python 3 (ipykernel)",
   "language": "python",
   "name": "python3"
  },
  "language_info": {
   "codemirror_mode": {
    "name": "ipython",
    "version": 3
   },
   "file_extension": ".py",
   "mimetype": "text/x-python",
   "name": "python",
   "nbconvert_exporter": "python",
   "pygments_lexer": "ipython3",
   "version": "3.9.13"
  }
 },
 "nbformat": 4,
 "nbformat_minor": 5
}
