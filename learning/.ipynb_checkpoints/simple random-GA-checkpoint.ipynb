{
 "cells": [
  {
   "cell_type": "code",
   "execution_count": 27,
   "id": "79d2daff-e410-49d1-aadf-72845c853076",
   "metadata": {},
   "outputs": [],
   "source": [
    "import random\n",
    "# Population size\n",
    "pop_size = 4"
   ]
  },
  {
   "cell_type": "code",
   "execution_count": 28,
   "id": "39d4e8b8-b460-4a7b-b4c0-655dd5d60599",
   "metadata": {},
   "outputs": [],
   "source": [
    "# Binary encoding of x-values\n",
    "binary_strings = ['01100', '11001', '00101', '10011']"
   ]
  },
  {
   "cell_type": "code",
   "execution_count": 29,
   "id": "175be7ce-c389-4aff-ac30-465fccd2e72c",
   "metadata": {
    "tags": []
   },
   "outputs": [],
   "source": [
    "# Decode binary strings to obtain x-values\n",
    "decoded_x_values = []\n",
    "for binary_string in binary_strings:\n",
    "    decoded_x = int(binary_string, 2)\n",
    "    decoded_x_values.append(decoded_x)"
   ]
  },
  {
   "cell_type": "code",
   "execution_count": 30,
   "id": "75505cb7-df20-4bbc-a1ba-b90adad4feef",
   "metadata": {},
   "outputs": [],
   "source": [
    "# Calculate fitness values for decoded x-values\n",
    "fitness_values = [x ** 2 for x in decoded_x_values]"
   ]
  },
  {
   "cell_type": "code",
   "execution_count": 31,
   "id": "9a4fd4d1-5bcd-4b9b-8231-e02843b0c44a",
   "metadata": {},
   "outputs": [],
   "source": [
    "# Rank-based selection to determine probabilities\n",
    "total_fitness = sum(fitness_values)\n",
    "probabilities = [fitness / total_fitness for fitness in fitness_values]"
   ]
  },
  {
   "cell_type": "code",
   "execution_count": 32,
   "id": "f9c44325-df6b-4cde-bc8b-7d967aa8e0f5",
   "metadata": {},
   "outputs": [],
   "source": [
    "# Expected count for each individual\n",
    "expected_counts = [prob * pop_size for prob in probabilities]"
   ]
  },
  {
   "cell_type": "code",
   "execution_count": 33,
   "id": "09db0e7f-31f8-4232-9849-e302df23c4a8",
   "metadata": {},
   "outputs": [],
   "source": [
    "# Actual count for each individual\n",
    "actual_counts = [round(expected_count) for expected_count in expected_counts]"
   ]
  },
  {
   "cell_type": "code",
   "execution_count": 34,
   "id": "0a0179ea-2fe6-45e3-8142-b5866ad77f34",
   "metadata": {},
   "outputs": [
    {
     "name": "stdout",
     "output_type": "stream",
     "text": [
      "String\tInitial Population\tx-value\tFitness Value f(x)\tProbability\t(%) Probability\tExpected count\tActual count\n",
      "1\t01100\t12\t144\t0.1247\t12.47%\t0.4987\t0\n",
      "2\t11001\t25\t625\t0.5411\t54.11%\t2.1645\t2\n",
      "3\t00101\t5\t25\t0.0216\t2.16%\t0.0866\t0\n",
      "4\t10011\t19\t361\t0.3126\t31.26%\t1.2502\t1\n"
     ]
    }
   ],
   "source": [
    "# Display the results in a table\n",
    "print(\"String\\tInitial Population\\tx-value\\tFitness Value f(x)\\tProbability\\t(%) Probability\\tExpected count\\tActual count\")\n",
    "for i in range(pop_size):\n",
    "    print(f\"{i+1}\\t{binary_strings[i]}\\t{decoded_x_values[i]}\\t{fitness_values[i]}\\t{probabilities[i]:.4f}\\t{(probabilities[i] * 100):.2f}%\\t{expected_counts[i]:.4f}\\t{actual_counts[i]}\")"
   ]
  },
  {
   "cell_type": "code",
   "execution_count": 38,
   "id": "8d3f10ab-0139-4431-a66f-1c591cfb68b4",
   "metadata": {},
   "outputs": [
    {
     "name": "stdout",
     "output_type": "stream",
     "text": [
      "String\tInitial Population\tx-value\tFitness Value f(x)\tProbability\t(%) Probability\tExpected count\tActual count\n",
      "1\t01100\t12\t144\t0.1247\t12.47%\t0.4987\t0\n",
      "2\t11001\t25\t625\t0.5411\t54.11%\t2.1645\t2\n",
      "3\t00101\t5\t25\t0.0216\t2.16%\t0.0866\t0\n",
      "4\t10011\t19\t361\t0.3126\t31.26%\t1.2502\t2\n"
     ]
    }
   ],
   "source": [
    "# Step 6: Roulette wheel selection to obtain actual counts\n",
    "actual_counts = [0] * pop_size\n",
    "roulette_wheel = []\n",
    "cumulative_prob = 0\n",
    "for i, prob in enumerate(probabilities):\n",
    "    cumulative_prob += prob\n",
    "    roulette_wheel.append((cumulative_prob, i))\n",
    "\n",
    "for _ in range(pop_size):\n",
    "    r = random.uniform(0, 1)\n",
    "    for prob, i in roulette_wheel:\n",
    "        if r < prob:\n",
    "            actual_counts[i] += 1\n",
    "            break\n",
    "\n",
    "# Output the results in a table\n",
    "print(\"String\\tInitial Population\\tx-value\\tFitness Value f(x)\\tProbability\\t(%) Probability\\tExpected count\\tActual count\")\n",
    "for i in range(pop_size):\n",
    "    print(f\"{i+1}\\t{binary_strings[i]}\\t{decoded_x_values[i]}\\t{fitness_values[i]}\\t{probabilities[i]:.4f}\\t{(probabilities[i] * 100):.2f}%\\t{expected_counts[i]:.4f}\\t{actual_counts[i]}\")"
   ]
  },
  {
   "cell_type": "code",
   "execution_count": 39,
   "id": "c5f3edb9-b2af-432b-8f38-8c35a94f6ef2",
   "metadata": {},
   "outputs": [
    {
     "data": {
      "text/plain": [
       "[(0.12467532467532468, 0),\n",
       " (0.6658008658008658, 1),\n",
       " (0.6874458874458875, 2),\n",
       " (1.0, 3)]"
      ]
     },
     "execution_count": 39,
     "metadata": {},
     "output_type": "execute_result"
    }
   ],
   "source": []
  },
  {
   "cell_type": "code",
   "execution_count": 42,
   "id": "573395d6-08b0-451e-acdc-59fcd2afbc8f",
   "metadata": {},
   "outputs": [
    {
     "ename": "TypeError",
     "evalue": "'int' object is not subscriptable",
     "output_type": "error",
     "traceback": [
      "\u001b[1;31m---------------------------------------------------------------------------\u001b[0m",
      "\u001b[1;31mTypeError\u001b[0m                                 Traceback (most recent call last)",
      "\u001b[1;32m~\\AppData\\Local\\Temp\\ipykernel_18124\\4153436562.py\u001b[0m in \u001b[0;36m<module>\u001b[1;34m\u001b[0m\n\u001b[0;32m     11\u001b[0m     \u001b[1;31m# add the string to the mating pool count number of times\u001b[0m\u001b[1;33m\u001b[0m\u001b[1;33m\u001b[0m\u001b[0m\n\u001b[0;32m     12\u001b[0m     \u001b[1;32mfor\u001b[0m \u001b[0mj\u001b[0m \u001b[1;32min\u001b[0m \u001b[0mrange\u001b[0m\u001b[1;33m(\u001b[0m\u001b[0mcount\u001b[0m\u001b[1;33m)\u001b[0m\u001b[1;33m:\u001b[0m\u001b[1;33m\u001b[0m\u001b[1;33m\u001b[0m\u001b[0m\n\u001b[1;32m---> 13\u001b[1;33m         \u001b[0mmating_pool\u001b[0m\u001b[1;33m.\u001b[0m\u001b[0mappend\u001b[0m\u001b[1;33m(\u001b[0m\u001b[0mpop_size\u001b[0m\u001b[1;33m[\u001b[0m\u001b[0mi\u001b[0m\u001b[1;33m]\u001b[0m\u001b[1;33m)\u001b[0m\u001b[1;33m\u001b[0m\u001b[1;33m\u001b[0m\u001b[0m\n\u001b[0m\u001b[0;32m     14\u001b[0m \u001b[1;33m\u001b[0m\u001b[0m\n\u001b[0;32m     15\u001b[0m \u001b[1;31m# print the resulting mating pool\u001b[0m\u001b[1;33m\u001b[0m\u001b[1;33m\u001b[0m\u001b[0m\n",
      "\u001b[1;31mTypeError\u001b[0m: 'int' object is not subscriptable"
     ]
    }
   ],
   "source": [
    "# # assuming the actual count for each string is stored in a list called \"actual_count\"\n",
    "# # and the population strings are stored in a list called \"population\"\n",
    "\n",
    "# mating_pool = []\n",
    "\n",
    "# for i, count in enumerate(actual_counts):\n",
    "#     # if count is zero, skip this string\n",
    "#     if count == 0:\n",
    "#         continue\n",
    "    \n",
    "#     # add the string to the mating pool count number of times\n",
    "#     for j in range(count):\n",
    "#         mating_pool.append(pop_size[i])\n",
    "        \n",
    "# # print the resulting mating pool\n",
    "# print(mating_pool)"
   ]
  },
  {
   "cell_type": "code",
   "execution_count": 45,
   "id": "46d65490-c892-43b8-b6bc-30092044ddd0",
   "metadata": {},
   "outputs": [
    {
     "name": "stdout",
     "output_type": "stream",
     "text": [
      "Offspring 1:  [0, 1, 1, 0, 1]\n",
      "Offspring 2:  [1, 1, 0, 0, 0]\n"
     ]
    }
   ],
   "source": [
    "\n",
    "\n",
    "# Define the crossover point\n",
    "crossover_point = 3\n",
    "\n",
    "# Define the parents\n",
    "parent1 = [0, 1, 1, 0, 0]\n",
    "parent2 = [1, 1, 0, 0, 1]\n",
    "\n",
    "# Perform single point crossover\n",
    "offspring1 = parent1[:crossover_point] + parent2[crossover_point:]\n",
    "offspring2 = parent2[:crossover_point] + parent1[crossover_point:]\n",
    "\n",
    "# Print the offspring\n",
    "print(\"Offspring 1: \", offspring1)\n",
    "print(\"Offspring 2: \", offspring2)"
   ]
  },
  {
   "cell_type": "code",
   "execution_count": 46,
   "id": "c4974c5c-6fee-4204-b612-0f9a043a99fc",
   "metadata": {},
   "outputs": [],
   "source": [
    "def single_point_crossover(parent1, parent2, crossover_point):\n",
    "    offspring1 = parent1[:crossover_point] + parent2[crossover_point:]\n",
    "    offspring2 = parent2[:crossover_point] + parent1[crossover_point:]\n",
    "    return offspring1, offspring2"
   ]
  },
  {
   "cell_type": "code",
   "execution_count": 50,
   "id": "21e9f0f9-c234-4649-9bea-d9684fda3c4e",
   "metadata": {},
   "outputs": [
    {
     "name": "stdout",
     "output_type": "stream",
     "text": [
      "Offspring 1:  [1, 0, 1, 0, 0, 1]\n",
      "Decoded x1:  41\n",
      "Fitness of offspring 1:  1681\n",
      "Offspring 2:  [1, 1, 1, 1, 0, 0]\n",
      "Decoded x2:  60\n",
      "Fitness of offspring 2:  3600\n"
     ]
    }
   ],
   "source": [
    "def decode_x(offspring):\n",
    "    x = 0\n",
    "    for bit in offspring:\n",
    "        x = (x << 1) | bit\n",
    "    return x\n",
    "\n",
    "def calculate_fitness(x):\n",
    "    return x**2\n",
    "\n",
    "\n",
    "parent1 = [1,0,1,1,0,0]\n",
    "parent2 = [1,1,1,0,0,1]\n",
    "crossover_point = 3\n",
    "\n",
    "# Example usage\n",
    "offspring1, offspring2 = single_point_crossover(parent1, parent2, crossover_point)\n",
    "\n",
    "x1 = decode_x(offspring1)\n",
    "x2 = decode_x(offspring2)\n",
    "\n",
    "fitness1 = calculate_fitness(x1)\n",
    "fitness2 = calculate_fitness(x2)\n",
    "\n",
    "print(\"Offspring 1: \", offspring1)\n",
    "print(\"Decoded x1: \", x1)\n",
    "print(\"Fitness of offspring 1: \", fitness1)\n",
    "\n",
    "print(\"Offspring 2: \", offspring2)\n",
    "print(\"Decoded x2: \", x2)\n",
    "print(\"Fitness of offspring 2: \", fitness2)"
   ]
  },
  {
   "cell_type": "code",
   "execution_count": null,
   "id": "f3c5e477-e913-4a12-be47-4e9b7182d867",
   "metadata": {},
   "outputs": [],
   "source": []
  }
 ],
 "metadata": {
  "kernelspec": {
   "display_name": "Python 3 (ipykernel)",
   "language": "python",
   "name": "python3"
  },
  "language_info": {
   "codemirror_mode": {
    "name": "ipython",
    "version": 3
   },
   "file_extension": ".py",
   "mimetype": "text/x-python",
   "name": "python",
   "nbconvert_exporter": "python",
   "pygments_lexer": "ipython3",
   "version": "3.9.13"
  }
 },
 "nbformat": 4,
 "nbformat_minor": 5
}
